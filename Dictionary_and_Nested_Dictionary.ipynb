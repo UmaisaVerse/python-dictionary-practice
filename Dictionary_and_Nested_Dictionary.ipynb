{
  "nbformat": 4,
  "nbformat_minor": 0,
  "metadata": {
    "colab": {
      "provenance": []
    },
    "kernelspec": {
      "name": "python3",
      "display_name": "Python 3"
    },
    "language_info": {
      "name": "python"
    }
  },
  "cells": [
    {
      "cell_type": "markdown",
      "source": [
        "### **Assignment 01: Dictionaries**\n",
        "\n",
        "1. Create a dictionary called `student` with the following key-value pairs:  \n",
        "   - `name`: \"Abis\"  \n",
        "   - `age`: 24  \n",
        "   - `grade`: \"A\"  \n",
        "   - `subject`: \"Mathematics\"  \n",
        "\n",
        "2. Print the `name` and `subject` of the student.  \n",
        "\n",
        "3. Update the `grade` to \"A+.\"  \n",
        "\n",
        "4. Add a new key-value pair: `institute` with the value \"Data Crumbs\"  \n",
        "\n",
        "5. Remove the `subject` key from the dictionary.  \n",
        "\n",
        "6. Count the total number of key-value pairs in the dictionary.  \n",
        "\n",
        "7. Write a loop to print all the keys in the dictionary.  \n",
        "\n",
        "8. Write a loop to print all the values in the dictionary.  "
      ],
      "metadata": {
        "id": "LubgVYHqvj4A"
      }
    },
    {
      "cell_type": "code",
      "source": [
        "# 1.\n",
        "\n",
        "student = {\n",
        "    \"name\": \"Umaisa\",\n",
        "    \"age\": 25,\n",
        "    \"grade\": \"A\",\n",
        "    \"subject\": \"Mathematics\"\n",
        "}\n",
        "\n",
        "print(student)\n",
        "\n",
        "# 2\n",
        "\n",
        "print(\"Name:\", student[\"name\"])\n",
        "print(\"Subject:\", student[\"subject\"])\n",
        "\n",
        "# 3\n",
        "\n",
        "student[\"grade\"] = \"A+\"\n",
        "print(student)\n",
        "\n",
        "# 4\n",
        "\n",
        "student[\"institute\"] = \"Data Crumbs\"\n",
        "print(student)\n",
        "\n",
        "# 5\n",
        "\n",
        "student.pop(\"subject\")\n",
        "print(student)\n",
        "\n",
        "# 6\n",
        "\n",
        "count = len(student)\n",
        "print(\"Total key-value pairs:\", count)\n",
        "\n",
        "# 7\n",
        "\n",
        "for key in student:\n",
        "    print(key)\n",
        "\n",
        "# 8\n",
        "\n",
        "for value in student.values():\n",
        "    print(value)\n"
      ],
      "metadata": {
        "colab": {
          "base_uri": "https://localhost:8080/"
        },
        "id": "W4hv2_XfrgvZ",
        "outputId": "df52be35-d72c-4242-ab5c-dfd5e6e44ba0"
      },
      "execution_count": 1,
      "outputs": [
        {
          "output_type": "stream",
          "name": "stdout",
          "text": [
            "{'name': 'Umaisa', 'age': 25, 'grade': 'A', 'subject': 'Mathematics'}\n",
            "Name: Umaisa\n",
            "Subject: Mathematics\n",
            "{'name': 'Umaisa', 'age': 25, 'grade': 'A+', 'subject': 'Mathematics'}\n",
            "{'name': 'Umaisa', 'age': 25, 'grade': 'A+', 'subject': 'Mathematics', 'institute': 'Data Crumbs'}\n",
            "{'name': 'Umaisa', 'age': 25, 'grade': 'A+', 'institute': 'Data Crumbs'}\n",
            "Total key-value pairs: 4\n",
            "name\n",
            "age\n",
            "grade\n",
            "institute\n",
            "Umaisa\n",
            "25\n",
            "A+\n",
            "Data Crumbs\n"
          ]
        }
      ]
    },
    {
      "cell_type": "markdown",
      "source": [
        "### **Assignment 02: Nested Dictionaries**\n",
        "\n",
        "1. Create a dictionary named `person` with:  \n",
        "   - `name`: \"Ahmed\"  \n",
        "   - `age`: 28  \n",
        "   - `address`: A dictionary with:  \n",
        "     - `city`: \"Karachi\"  \n",
        "     - `zip`: \"74400\"  \n",
        "\n",
        "2. Print the `name` and `city` from the `person` dictionary.  \n",
        "\n",
        "3. Add a new key-value pair to the `person` dictionary:  \n",
        "   - `email`: \"ahmed@datacrumbs.com\"  \n",
        "\n",
        "4. Update the `age` to 29.  \n",
        "\n",
        "5. Remove the `zip` key from the `address` dictionary.  "
      ],
      "metadata": {
        "id": "HwDnP5Vfv8Ei"
      }
    },
    {
      "cell_type": "code",
      "source": [
        "# 1\n",
        "person = {\n",
        "    \"name\": \"Ahmed\",\n",
        "    \"age\": 28,\n",
        "    \"address\": {\n",
        "        \"city\": \"Karachi\",\n",
        "        \"zip\": \"74400\"\n",
        "    }\n",
        "}\n",
        "\n",
        "# 2\n",
        "print(\"Name:\", person[\"name\"])\n",
        "print(\"City:\", person[\"address\"][\"city\"])\n",
        "\n",
        "# 3\n",
        "person[\"email\"] = \"ahmed@datacrumbs.com\"\n",
        "\n",
        "# 4\n",
        "person[\"age\"] = 29\n",
        "\n",
        "# 5\n",
        "del person[\"address\"][\"zip\"]\n",
        "\n",
        "\n",
        "print(\"\\nUpdated Dictionary:\")\n",
        "print(person)"
      ],
      "metadata": {
        "colab": {
          "base_uri": "https://localhost:8080/"
        },
        "id": "_ynT1QXLs7Ol",
        "outputId": "4147cdc2-4920-42b9-8068-5eac3a2fcc6a"
      },
      "execution_count": 2,
      "outputs": [
        {
          "output_type": "stream",
          "name": "stdout",
          "text": [
            "Name: Ahmed\n",
            "City: Karachi\n",
            "\n",
            "Updated Dictionary:\n",
            "{'name': 'Ahmed', 'age': 29, 'address': {'city': 'Karachi'}, 'email': 'ahmed@datacrumbs.com'}\n"
          ]
        }
      ]
    }
  ]
}